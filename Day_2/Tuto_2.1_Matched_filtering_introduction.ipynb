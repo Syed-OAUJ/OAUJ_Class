{
  "nbformat": 4,
  "nbformat_minor": 0,
  "metadata": {
    "colab": {
      "name": "Tuto_2.1_Matched_filtering_introduction.ipynb",
      "provenance": []
    },
    "kernelspec": {
      "display_name": "Python 3",
      "language": "python",
      "name": "python3"
    },
    "language_info": {
      "codemirror_mode": {
        "name": "ipython",
        "version": 3
      },
      "file_extension": ".py",
      "mimetype": "text/x-python",
      "name": "python",
      "nbconvert_exporter": "python",
      "pygments_lexer": "ipython3",
      "version": "3.7.6"
    }
  },
  "cells": [
    {
      "cell_type": "markdown",
      "metadata": {
        "Collapsed": "false",
        "id": "D_QUDECR0psB"
      },
      "source": [
        "<img style=\"float: left;padding: 1.3em\" src=\"https://indico.in2p3.fr/event/18313/logo-786578160.png\">  \n",
        "\n",
        "#  Gravitational Wave Open Data Workshop #3\n",
        "\n",
        "\n",
        "## Tutorial 2.1 PyCBC Tutorial, An introduction to matched-filtering\n",
        "\n",
        "We will be using the [PyCBC](http://github.com/ligo-cbc/pycbc) library, which is used to study gravitational-wave data, find astrophysical sources due to compact binary mergers, and study their parameters. These are some of the same tools that the LIGO and Virgo collaborations use to find gravitational waves in LIGO/Virgo data \n",
        "\n",
        "In this tutorial we will walk through how find a specific signal in LIGO data. We present matched filtering as a cross-correlation, in both the time domain and the frequency domain. In the next tutorial (2.2), we use the method as encoded in PyCBC, which is optimal in the case of Gaussian noise and a known signal model. In reality our noise is not entirely Gaussian, and in practice we use a variety of techniques to separate signals from noise in addition to the use of the matched filter. \n",
        "\n",
        "[Click this link to view this tutorial in Google Colaboratory](https://colab.research.google.com/github/gw-odw/odw-2020/blob/master/Day_2/Tuto_2.1_Matched_filtering_introduction.ipynb)\n",
        "\n",
        "Additional [examples](http://pycbc.org/pycbc/latest/html/#library-examples-and-interactive-tutorials) and module level documentation are [here](http://pycbc.org/pycbc/latest/html/py-modindex.html)"
      ]
    },
    {
      "cell_type": "markdown",
      "metadata": {
        "Collapsed": "false",
        "id": "VfuWmS4z0psH"
      },
      "source": [
        "## Installation (un-comment and execute only if running on a cloud platform!)"
      ]
    },
    {
      "cell_type": "code",
      "metadata": {
        "Collapsed": "false",
        "id": "-oaVmOkc0psJ"
      },
      "source": [
        "# -- Use the following for Google Colab\n",
        "! pip install -q 'lalsuite==6.66' 'PyCBC==1.15.3' "
      ],
      "execution_count": 19,
      "outputs": []
    },
    {
      "cell_type": "markdown",
      "metadata": {
        "Collapsed": "false",
        "id": "bkT6oEIq0psO"
      },
      "source": [
        "**Important:** With Google Colab, you may need to restart the runtime after running the cell above."
      ]
    },
    {
      "cell_type": "markdown",
      "metadata": {
        "Collapsed": "false",
        "id": "n1n6Ut_v0psP"
      },
      "source": [
        "### Matched-filtering: Finding well modelled signals in Gaussian noise\n",
        "\n",
        "Matched filtering can be shown to be the optimal method for \"detecting\" signals---when the signal waveform is known---in Gaussian noise. We'll explore those assumptions a little later, but for now let's demonstrate how this works.\n",
        "\n",
        "Let's assume you have a stretch of noise, white noise to start:"
      ]
    },
    {
      "cell_type": "code",
      "metadata": {
        "Collapsed": "false",
        "colab": {
          "base_uri": "https://localhost:8080/"
        },
        "id": "YUS9v3eM0psQ",
        "outputId": "f98145da-5594-4189-f4c8-350ec45c8f10"
      },
      "source": [
        "%matplotlib inline\n",
        "import numpy\n",
        "import pylab\n",
        "\n",
        "# specify the sample rate.\n",
        "# LIGO raw data is sampled at 16384 Hz (=2^14 samples/second).\n",
        "# It captures signal frequency content up to f_Nyquist = 8192 Hz.\n",
        "# Here, we will make the computation faster by sampling at a lower rate.\n",
        "sample_rate = 1024 # samples per second\n",
        "data_length = 1024 # seconds\n",
        "size=[sample_rate * data_length]\n",
        "print(size)\n",
        "# Generate a long stretch of white noise: the data series and the time series.\n",
        "data = numpy.random.normal(size=[sample_rate * data_length])\n",
        "times = numpy.arange(len(data)) / float(sample_rate)\n",
        "\n",
        "print(data)"
      ],
      "execution_count": 20,
      "outputs": [
        {
          "output_type": "stream",
          "name": "stdout",
          "text": [
            "[1048576]\n",
            "[-1.41248136 -2.00745967  0.31178874 ... -0.58445444 -0.74710851\n",
            " -1.11600215]\n"
          ]
        }
      ]
    },
    {
      "cell_type": "markdown",
      "metadata": {
        "Collapsed": "false",
        "id": "Lb1qfZuj0psU"
      },
      "source": [
        "And then let's add a gravitational wave signal to some random part of this data."
      ]
    },
    {
      "cell_type": "code",
      "metadata": {
        "Collapsed": "false",
        "colab": {
          "base_uri": "https://localhost:8080/",
          "height": 853
        },
        "id": "8iMaIs1d0psW",
        "outputId": "39120102-4643-4ee2-e6f0-22c236b628ef"
      },
      "source": [
        "from pycbc.waveform import get_td_waveform\n",
        "import numpy as np\n",
        "import pycbc.noise\n",
        "import pycbc.psd\n",
        "\n",
        "# the \"approximant\" (jargon for parameterized waveform family).\n",
        "# IMRPhenomD is defined in the frequency domain, but we'll get it in the time domain (td).\n",
        "# It runs fast, but it doesn't include effects such as non-aligned component spin, or higher order modes.\n",
        "apx = 'IMRPhenomD'\n",
        "\n",
        "# You can specify many parameters, \n",
        "# https://pycbc.org/pycbc/latest/html/pycbc.waveform.html?highlight=get_td_waveform#pycbc.waveform.waveform.get_td_waveform\n",
        "# but here, we'll use defaults for everything except the masses.\n",
        "# It returns both hplus and hcross, but we'll only use hplus for now.\n",
        "hp1, _ = get_td_waveform(approximant=apx,\n",
        "                         mass1=10,\n",
        "                         mass2=10,\n",
        "                         delta_t=1.0/sample_rate,\n",
        "                         f_lower=25)\n",
        "\n",
        "# The amplitude of gravitational-wave signals is normally of order 1E-20. To demonstrate our method\n",
        "# on white noise with amplitude O(1) we normalize our signal so the cross-correlation of the signal with\n",
        "# itself will give a value of 1. In this case we can interpret the cross-correlation of the signal with white\n",
        "# noise as a signal-to-noise ratio.\n",
        "\n",
        "hp1 = hp1 / max(numpy.correlate(hp1,hp1, mode='full'))**0.5\n",
        "\n",
        "# note that in this figure, the waveform amplitude is of order 1.\n",
        "# The duration (for frequency above f_lower=25 Hz) is only 3 or 4 seconds long.\n",
        "# The waveform is \"tapered\": slowly ramped up from zero to full strength, over the first second or so.\n",
        "# It is zero-padded at earlier times.\n",
        "pylab.figure()\n",
        "pylab.title(\"The waveform hp1\")\n",
        "pylab.plot(hp1.sample_times, hp1)\n",
        "pylab.xlabel('Time (s)')\n",
        "pylab.ylabel('Normalized amplitude')\n",
        "\n",
        "# Shift the waveform to start at a random time in the Gaussian noise data.\n",
        "waveform_start = numpy.random.randint(0, len(data) - len(hp1))\n",
        "data[waveform_start:waveform_start+len(hp1)] += 10 * hp1.numpy()\n",
        "\n",
        "print('data here',data)\n",
        "\n",
        "\n",
        "print('wdf',data[waveform_start:waveform_start+len(hp1)])\n",
        "pylab.figure()\n",
        "pylab.title(\"Looks like random noise, right?\")\n",
        "pylab.plot(hp1.sample_times, data[waveform_start:waveform_start+len(hp1)])\n",
        "pylab.xlabel('Time (s)')\n",
        "pylab.ylabel('Normalized amplitude')\n",
        "\n",
        "pylab.figure()\n",
        "pylab.title(\"Signal in the data\")\n",
        "pylab.plot(hp1.sample_times, data[waveform_start:waveform_start+len(hp1)])\n",
        "pylab.plot(hp1.sample_times, 10 * hp1)\n",
        "pylab.xlabel('Time (s)')\n",
        "pylab.ylabel('Normalized amplitude')\n",
        "\n",
        "print(len(data))\n",
        "print('data',data)\n",
        "\n",
        "\n",
        "print('###########')\n",
        "data_fft=np.fft.fft(data)\n",
        "print(len(data_fft))\n",
        "print('data_fft',data_fft)\n",
        "\n",
        "template, _ = get_td_waveform(approximant=apx,\n",
        "                         mass1=10,\n",
        "                         mass2=10,\n",
        "                         delta_t=1.0/sample_rate,\n",
        "                         f_lower=25)\n",
        "\n",
        "print('###########')\n",
        "print(len(template))\n",
        "print('template',template)\n",
        "\n",
        "\n",
        "zero_pad = np.zeros(len(data) - len(template))\n",
        "template_padded = np.append(template, zero_pad)\n",
        "template_fft = np.fft.fft(template_padded)\n",
        "\n",
        "\n",
        "# The color of the noise matches a PSD which you provide:\n",
        "# Generate a PSD matching Advanced LIGO's zero-detuned--high-power noise curve \n",
        "flow = 10.0\n",
        "delta_f = 1.0 / 128\n",
        "flen = int(sample_rate / (2 * delta_f)) + 1\n",
        "psd = pycbc.psd.aLIGOZeroDetHighPower(flen, delta_f, flow)\n",
        "\n",
        "# Generate colored noise\n",
        "delta_t = 1.0 / sample_rate\n",
        "ts = pycbc.noise.noise_from_psd(data_length*sample_rate, delta_t, psd, seed=127)\n",
        "\n",
        "# Estimate the amplitude spectral density (ASD = sqrt(PSD)) for the noisy data \n",
        "# using the \"welch\" method. We'll choose 4 seconds PSD samples that are overlapped 50%\n",
        "seg_len = int(4 / delta_t)\n",
        "seg_stride = int(seg_len / 2)\n",
        "estimated_psd = pycbc.psd.welch(ts,seg_len=seg_len,seg_stride=seg_stride)\n",
        "\n",
        "print('###########')\n",
        "print('###########')\n",
        "print(psd)\n",
        "\n",
        "fs=1024\n",
        "\n",
        "power, freq = pylab.psd(template, Fs=fs, NFFT=fs, visible=False)\n",
        "pylab.close()\n",
        "power_data, freq_psd = pylab.psd(data[12*fs:], Fs=fs, NFFT=fs, visible=False)\n",
        "pylab.close()\n",
        "\n",
        "\n",
        "# --- Match FFT frequency bins to PSD frequency bins\n",
        "datafreq = np.fft.fftfreq(data.size)*fs\n",
        "power_vec = np.interp(datafreq, 10*freq_psd, power_data)\n",
        "\n",
        "# --- Apply the optimal matched filter\n",
        "optimal = data_fft * template_fft.conjugate() / power_vec\n",
        "optimal_time = 2*np.fft.ifft(optimal)\n",
        "\n",
        "print('##############')\n",
        "print('optimal',optimal)\n",
        "print('##############')\n",
        "\n",
        "\n",
        "print('optimal_time,',optimal_time)\n",
        "\n",
        "\n",
        "# -- Normalize the matched filter output\n",
        "df = np.abs(datafreq[1] - datafreq[0])\n",
        "sigmasq = 2*(template_fft * template_fft.conjugate() / power_vec).sum() * df\n",
        "sigma = np.sqrt(np.abs(sigmasq))\n",
        "SNR = abs(optimal_time) / (sigma)\n",
        "\n",
        "\n",
        "peak = abs(SNR).argmax()\n",
        "snrp = SNR[peak]\n",
        "\n",
        "print('peak is',peak,'snrp is',snrp)\n",
        "\n",
        "print(SNR)\n",
        "print(len(SNR))\n"
      ],
      "execution_count": 38,
      "outputs": [
        {
          "output_type": "stream",
          "name": "stdout",
          "text": [
            "data here [-1.41248136 -2.00745967  0.31178874 ... -0.58445444 -0.74710851\n",
            " -1.11600215]\n",
            "wdf [ 2.08756626 -1.17788829  0.34308418 ... -0.0714073   0.26519298\n",
            "  1.02229235]\n",
            "1048576\n",
            "data [-1.41248136 -2.00745967  0.31178874 ... -0.58445444 -0.74710851\n",
            " -1.11600215]\n",
            "###########\n",
            "1048576\n",
            "data_fft [1499.31639933  +0.j          150.58749543-257.4637167j\n",
            " -925.17490218+119.88415923j ...  872.52396539 +35.71865261j\n",
            " -925.17490218-119.88415923j  150.58749543+257.4637167j ]\n",
            "###########\n",
            "16384\n",
            "template [ 2.17022747e-22 -2.11853874e-22  2.14827171e-22 ... -2.16031994e-22\n",
            "  2.19155099e-22 -2.13877610e-22]\n",
            "###########\n",
            "###########\n",
            "[0.00000000e+00 0.00000000e+00 0.00000000e+00 ... 1.52484573e-47\n",
            " 1.52485764e-47 0.00000000e+00]\n",
            "##############\n",
            "optimal [-2.35343147e-28+0.00000000e+00j -2.79142245e-18-1.82212018e-18j\n",
            "  6.39402312e-19+2.08155451e-17j ...  3.09732192e-18+2.90231013e-17j\n",
            "  6.39535959e-19-2.08198960e-17j -2.79171418e-18+1.82231061e-18j]\n",
            "##############\n",
            "optimal_time, [ 5.22024733e-15-6.85333180e-16j  3.08603876e-15-1.84298677e-15j\n",
            " -3.85421310e-16-1.31923222e-15j ...  4.64886883e-15+9.59956566e-16j\n",
            "  5.19411857e-15+3.98442142e-17j  4.07134240e-15-2.21957932e-16j]\n",
            "peak is 379212 snrp is 15.224945516256247\n",
            "[1.97466303 1.34811331 0.515464   ... 1.78035042 1.94812051 1.52923152]\n",
            "1048576\n"
          ]
        },
        {
          "output_type": "display_data",
          "data": {
            "image/png": "[encoded data removed]",
            "text/plain": [
              "<Figure size 432x288 with 1 Axes>"
            ]
          },
          "metadata": {
            "needs_background": "light"
          }
        }
      ]
    },
    {
      "cell_type": "markdown",
      "metadata": {
        "Collapsed": "false",
        "id": "mmAJqGqH0psZ"
      },
      "source": [
        "To search for this signal we can cross-correlate the signal with the entire dataset -> Not in any way optimized at this point, just showing the method.\n",
        "\n",
        "We will do the cross-correlation in the time domain, once for each time step. It runs slowly..."
      ]
    },
    {
      "cell_type": "code",
      "metadata": {
        "Collapsed": "false",
        "colab": {
          "base_uri": "https://localhost:8080/",
          "height": 297
        },
        "id": "fi3D6sW70psa",
        "outputId": "90f3c918-8a7b-4ca3-aad4-461ef989ec47"
      },
      "source": [
        "cross_correlation = numpy.zeros([len(data)-len(hp1)])\n",
        "hp1_numpy = hp1.numpy()\n",
        "for i in range(len(data) - len(hp1_numpy)):\n",
        "    cross_correlation[i] = (hp1_numpy * data[i:i+len(hp1_numpy)]).sum()\n",
        "\n",
        "# plot the cross-correlated data vs time. Superimpose the location of the end of the signal;\n",
        "# this is where we should find a peak in the cross-correlation.\n",
        "pylab.figure()\n",
        "times = numpy.arange(len(data) - len(hp1_numpy)) / float(sample_rate)\n",
        "pylab.plot(times, cross_correlation)\n",
        "pylab.plot([waveform_start/float(sample_rate), waveform_start/float(sample_rate)], [-10,10],'r:')\n",
        "pylab.xlabel('Time (s)')\n",
        "pylab.ylabel('Cross-correlation')"
      ],
      "execution_count": 24,
      "outputs": [
        {
          "output_type": "execute_result",
          "data": {
            "text/plain": [
              "Text(0, 0.5, 'Cross-correlation')"
            ]
          },
          "metadata": {},
          "execution_count": 24
        },
        {
          "output_type": "display_data",
          "data": {
            "image/png": "[encoded data removed]",
            "text/plain": [
              "<Figure size 432x288 with 1 Axes>"
            ]
          },
          "metadata": {
            "needs_background": "light"
          }
        }
      ]
    },
    {
      "cell_type": "markdown",
      "metadata": {
        "Collapsed": "false",
        "id": "cafBZG960psc"
      },
      "source": [
        "Here you can see that the largest spike from the cross-correlation comes at the time of the signal. We only really need one more ingredient to describe matched-filtering: \"Colored\" noise (Gaussian noise but with a frequency-dependent variance; white noise has frequency-independent variance). \n",
        "\n",
        "Let's repeat the process, but generate a stretch of data colored with LIGO's zero-detuned--high-power noise curve. We'll use a PyCBC library to do this."
      ]
    },
    {
      "cell_type": "code",
      "metadata": {
        "Collapsed": "false",
        "colab": {
          "base_uri": "https://localhost:8080/",
          "height": 311
        },
        "id": "9Jcw-P_v0psd",
        "outputId": "800c6117-12c6-403b-c966-b9eb03bce8b6"
      },
      "source": [
        "# http://pycbc.org/pycbc/latest/html/noise.html\n",
        "import pycbc.noise\n",
        "import pycbc.psd\n",
        "\n",
        "# The color of the noise matches a PSD which you provide:\n",
        "# Generate a PSD matching Advanced LIGO's zero-detuned--high-power noise curve \n",
        "flow = 10.0\n",
        "delta_f = 1.0 / 128\n",
        "flen = int(sample_rate / (2 * delta_f)) + 1\n",
        "psd = pycbc.psd.aLIGOZeroDetHighPower(flen, delta_f, flow)\n",
        "\n",
        "# Generate colored noise\n",
        "delta_t = 1.0 / sample_rate\n",
        "ts = pycbc.noise.noise_from_psd(data_length*sample_rate, delta_t, psd, seed=127)\n",
        "\n",
        "# Estimate the amplitude spectral density (ASD = sqrt(PSD)) for the noisy data \n",
        "# using the \"welch\" method. We'll choose 4 seconds PSD samples that are overlapped 50%\n",
        "seg_len = int(4 / delta_t)\n",
        "seg_stride = int(seg_len / 2)\n",
        "estimated_psd = pycbc.psd.welch(ts,seg_len=seg_len,seg_stride=seg_stride)\n",
        "\n",
        "# plot it:\n",
        "pylab.loglog(estimated_psd.sample_frequencies, estimated_psd, label='estimate')\n",
        "pylab.loglog(psd.sample_frequencies, psd, linewidth=3, label='known psd')\n",
        "pylab.xlim(xmin=flow, xmax=512)\n",
        "pylab.ylim(1e-47, 1e-45)\n",
        "pylab.legend()\n",
        "pylab.grid()\n",
        "pylab.show()\n",
        "\n",
        "# add the signal, this time, with a \"typical\" amplitude.\n",
        "ts[waveform_start:waveform_start+len(hp1)] += hp1.numpy() * 1E-20\n",
        "\n",
        "print(ts)"
      ],
      "execution_count": 39,
      "outputs": [
        {
          "output_type": "display_data",
          "data": {
            "image/png": "[encoded data removed]",
            "text/plain": [
              "<Figure size 432x288 with 1 Axes>"
            ]
          },
          "metadata": {
            "needs_background": "light"
          }
        },
        {
          "output_type": "stream",
          "name": "stdout",
          "text": [
            "[ 4.85696272e-22  2.61948631e-22  2.30970682e-22 ...  3.04619629e-23\n",
            "  1.54225859e-23 -7.64251640e-25]\n"
          ]
        }
      ]
    },
    {
      "cell_type": "markdown",
      "metadata": {
        "Collapsed": "false",
        "id": "rSgmyob_0psf"
      },
      "source": [
        "Then all we need to do is to \"whiten\" both the data, and the template waveform. This can be done, in the frequency domain, by dividing by the PSD. This *can* be done in the time domain as well, but it's more intuitive in the frequency domain"
      ]
    },
    {
      "cell_type": "code",
      "metadata": {
        "Collapsed": "false",
        "colab": {
          "base_uri": "https://localhost:8080/",
          "height": 502
        },
        "id": "w_v6gzUh0psg",
        "outputId": "1822a89b-b073-4e66-d5fe-51d5a253a55d"
      },
      "source": [
        "# Generate a PSD for whitening the data\n",
        "from pycbc.types import TimeSeries\n",
        "\n",
        "# The PSD, sampled properly for the noisy data\n",
        "flow = 10.0\n",
        "delta_f = 1.0 / data_length\n",
        "flen = int(sample_rate / (2 * delta_f)) + 1\n",
        "psd_td = pycbc.psd.aLIGOZeroDetHighPower(flen, delta_f, 0)\n",
        "\n",
        "# The PSD, sampled properly for the signal\n",
        "delta_f = sample_rate / float(len(hp1))\n",
        "flen = int(sample_rate / (2 * delta_f)) + 1\n",
        "psd_hp1 = pycbc.psd.aLIGOZeroDetHighPower(flen, delta_f, 0)\n",
        "\n",
        "# The 0th and Nth values are zero. Set them to a nearby value to avoid dividing by zero.\n",
        "psd_td[0] = psd_td[1]\n",
        "psd_td[len(psd_td) - 1] = psd_td[len(psd_td) - 2]\n",
        "# Same, for the PSD sampled for the signal\n",
        "psd_hp1[0] = psd_hp1[1]\n",
        "psd_hp1[len(psd_hp1) - 1] = psd_hp1[len(psd_hp1) - 2]\n",
        "\n",
        "# convert both noisy data and the signal to frequency domain,\n",
        "# and divide each by ASD=PSD**0.5, then convert back to time domain.\n",
        "# This \"whitens\" the data and the signal template. \n",
        "# Multiplying the signal template by 1E-21 puts it into realistic units of strain.\n",
        "data_whitened = (ts.to_frequencyseries() / psd_td**0.5).to_timeseries()\n",
        "hp1_whitened = (hp1.to_frequencyseries() / psd_hp1**0.5).to_timeseries() * 1E-21\n",
        "print(data_whitened)\n",
        "print(hp1_whitened)\n",
        "print(len(data_whitened),len(hp1_whitened))\n",
        "\n",
        "zero_pad = np.zeros(len(data_whitened) - len(hp1_whitened))\n",
        "template_padded = np.append(hp1_whitened, zero_pad)\n",
        "print(template_padded)\n",
        "print(len(data_whitened),len(template_padded))\n",
        "snrt = matched_filter(template_padded, data_whitened,\n",
        "                     psd=psd, low_frequency_cutoff=20)"
      ],
      "execution_count": 64,
      "outputs": [
        {
          "output_type": "stream",
          "name": "stdout",
          "text": [
            "[ 89.64242628  24.85762215  10.57594088 ... -15.98606025 -28.07233346\n",
            " -36.29782008]\n",
            "[ 0.02642882 -0.02619175  0.026176   ... -0.0267107   0.02668783\n",
            " -0.02645026]\n",
            "1048576 16384\n",
            "[ 0.02642882 -0.02619175  0.026176   ...  0.          0.\n",
            "  0.        ]\n",
            "1048576 1048576\n"
          ]
        },
        {
          "output_type": "error",
          "ename": "TypeError",
          "evalue": "ignored",
          "traceback": [
            "\u001b[0;31m---------------------------------------------------------------------------\u001b[0m",
            "\u001b[0;31mTypeError\u001b[0m                                 Traceback (most recent call last)",
            "\u001b[0;32m<ipython-input-64-3b473aff1f84>\u001b[0m in \u001b[0;36m<module>\u001b[0;34m()\u001b[0m\n\u001b[1;32m     35\u001b[0m \u001b[0mprint\u001b[0m\u001b[0;34m(\u001b[0m\u001b[0mlen\u001b[0m\u001b[0;34m(\u001b[0m\u001b[0mdata_whitened\u001b[0m\u001b[0;34m)\u001b[0m\u001b[0;34m,\u001b[0m\u001b[0mlen\u001b[0m\u001b[0;34m(\u001b[0m\u001b[0mtemplate_padded\u001b[0m\u001b[0;34m)\u001b[0m\u001b[0;34m)\u001b[0m\u001b[0;34m\u001b[0m\u001b[0;34m\u001b[0m\u001b[0m\n\u001b[1;32m     36\u001b[0m snrt = matched_filter(template_padded, data_whitened,\n\u001b[0;32m---> 37\u001b[0;31m                      psd=psd, low_frequency_cutoff=20)\n\u001b[0m",
            "\u001b[0;32m/usr/local/lib/python3.7/dist-packages/pycbc/filter/matchedfilter.py\u001b[0m in \u001b[0;36mmatched_filter\u001b[0;34m(template, data, psd, low_frequency_cutoff, high_frequency_cutoff, sigmasq)\u001b[0m\n\u001b[1;32m   1312\u001b[0m     snr, _, norm = matched_filter_core(template, data, psd=psd,\n\u001b[1;32m   1313\u001b[0m             \u001b[0mlow_frequency_cutoff\u001b[0m\u001b[0;34m=\u001b[0m\u001b[0mlow_frequency_cutoff\u001b[0m\u001b[0;34m,\u001b[0m\u001b[0;34m\u001b[0m\u001b[0;34m\u001b[0m\u001b[0m\n\u001b[0;32m-> 1314\u001b[0;31m             high_frequency_cutoff=high_frequency_cutoff, h_norm=sigmasq)\n\u001b[0m\u001b[1;32m   1315\u001b[0m     \u001b[0;32mreturn\u001b[0m \u001b[0msnr\u001b[0m \u001b[0;34m*\u001b[0m \u001b[0mnorm\u001b[0m\u001b[0;34m\u001b[0m\u001b[0;34m\u001b[0m\u001b[0m\n\u001b[1;32m   1316\u001b[0m \u001b[0;34m\u001b[0m\u001b[0m\n",
            "\u001b[0;32m/usr/local/lib/python3.7/dist-packages/pycbc/filter/matchedfilter.py\u001b[0m in \u001b[0;36mmatched_filter_core\u001b[0;34m(template, data, psd, low_frequency_cutoff, high_frequency_cutoff, h_norm, out, corr_out)\u001b[0m\n\u001b[1;32m   1209\u001b[0m         \u001b[0mThe\u001b[0m \u001b[0mnormalization\u001b[0m \u001b[0mof\u001b[0m \u001b[0mthe\u001b[0m \u001b[0mcomplex\u001b[0m \u001b[0msnr\u001b[0m\u001b[0;34m.\u001b[0m\u001b[0;34m\u001b[0m\u001b[0;34m\u001b[0m\u001b[0m\n\u001b[1;32m   1210\u001b[0m     \"\"\"\n\u001b[0;32m-> 1211\u001b[0;31m     \u001b[0mhtilde\u001b[0m \u001b[0;34m=\u001b[0m \u001b[0mmake_frequency_series\u001b[0m\u001b[0;34m(\u001b[0m\u001b[0mtemplate\u001b[0m\u001b[0;34m)\u001b[0m\u001b[0;34m\u001b[0m\u001b[0;34m\u001b[0m\u001b[0m\n\u001b[0m\u001b[1;32m   1212\u001b[0m     \u001b[0mstilde\u001b[0m \u001b[0;34m=\u001b[0m \u001b[0mmake_frequency_series\u001b[0m\u001b[0;34m(\u001b[0m\u001b[0mdata\u001b[0m\u001b[0;34m)\u001b[0m\u001b[0;34m\u001b[0m\u001b[0;34m\u001b[0m\u001b[0m\n\u001b[1;32m   1213\u001b[0m \u001b[0;34m\u001b[0m\u001b[0m\n",
            "\u001b[0;32m/usr/local/lib/python3.7/dist-packages/pycbc/filter/matchedfilter.py\u001b[0m in \u001b[0;36mmake_frequency_series\u001b[0;34m(vec)\u001b[0m\n\u001b[1;32m   1011\u001b[0m         \u001b[0;32mreturn\u001b[0m \u001b[0mvectilde\u001b[0m\u001b[0;34m\u001b[0m\u001b[0;34m\u001b[0m\u001b[0m\n\u001b[1;32m   1012\u001b[0m     \u001b[0;32melse\u001b[0m\u001b[0;34m:\u001b[0m\u001b[0;34m\u001b[0m\u001b[0;34m\u001b[0m\u001b[0m\n\u001b[0;32m-> 1013\u001b[0;31m         \u001b[0;32mraise\u001b[0m \u001b[0mTypeError\u001b[0m\u001b[0;34m(\u001b[0m\u001b[0;34m\"Can only convert a TimeSeries to a FrequencySeries\"\u001b[0m\u001b[0;34m)\u001b[0m\u001b[0;34m\u001b[0m\u001b[0;34m\u001b[0m\u001b[0m\n\u001b[0m\u001b[1;32m   1014\u001b[0m \u001b[0;34m\u001b[0m\u001b[0m\n\u001b[1;32m   1015\u001b[0m def sigmasq_series(htilde, psd=None, low_frequency_cutoff=None,\n",
            "\u001b[0;31mTypeError\u001b[0m: Can only convert a TimeSeries to a FrequencySeries"
          ]
        }
      ]
    },
    {
      "cell_type": "code",
      "metadata": {
        "id": "MtHj5jmQ2wYa"
      },
      "source": [
        "hp1_whitened.append_zeros??"
      ],
      "execution_count": 67,
      "outputs": []
    },
    {
      "cell_type": "code",
      "metadata": {
        "Collapsed": "false",
        "colab": {
          "base_uri": "https://localhost:8080/",
          "height": 333
        },
        "id": "d_HLbCCN0psi",
        "outputId": "181f43eb-ff32-4fe6-d5d1-873af8b56edf"
      },
      "source": [
        "# Now let's re-do the correlation, in the time domain, but with whitened data and template.\n",
        "import numpy as np\n",
        "cross_correlation = numpy.zeros([len(data)-len(hp1)])\n",
        "hp1n = hp1_whitened.numpy()\n",
        "datan = data_whitened.numpy()\n",
        "for i in range(len(datan) - len(hp1n)):\n",
        "    cross_correlation[i] = (hp1n * datan[i:i+len(hp1n)]).sum()\n",
        "\n",
        "# plot the cross-correlation in the time domain. Superimpose the location of the end of the signal.\n",
        "# Note how much bigger the cross-correlation peak is, relative to the noise level,\n",
        "# compared with the unwhitened version of the same quantity. SNR is much higher!\n",
        "pylab.figure()\n",
        "times = numpy.arange(len(datan) - len(hp1n)) / float(sample_rate)\n",
        "pylab.plot(times, cross_correlation)\n",
        "pylab.plot([waveform_start/float(sample_rate), waveform_start/float(sample_rate)],\n",
        "           [(min(cross_correlation))*1.1,(max(cross_correlation))*1.1],'r:')\n",
        "pylab.xlabel('Time (s)')\n",
        "pylab.ylabel('Cross-correlation')\n",
        "\n",
        "\n",
        "\n",
        "print(data_fft)\n",
        "\n",
        "\n"
      ],
      "execution_count": 52,
      "outputs": [
        {
          "output_type": "stream",
          "name": "stdout",
          "text": [
            "[1499.31639933  +0.j          150.58749543-257.4637167j\n",
            " -925.17490218+119.88415923j ...  872.52396539 +35.71865261j\n",
            " -925.17490218-119.88415923j  150.58749543+257.4637167j ]\n"
          ]
        },
        {
          "output_type": "display_data",
          "data": {
            "image/png": "[encoded data removed]",
            "text/plain": [
              "<Figure size 432x288 with 1 Axes>"
            ]
          },
          "metadata": {
            "needs_background": "light"
          }
        }
      ]
    },
    {
      "cell_type": "code",
      "metadata": {
        "colab": {
          "base_uri": "https://localhost:8080/",
          "height": 646
        },
        "id": "gh9iFRrVtXiZ",
        "outputId": "824164bf-72fb-43c1-d61d-295502303f68"
      },
      "source": [
        "from pycbc.filter import matched_filter\n",
        "import numpy as np\n",
        "print(cross_correlation)\n",
        "p=cross_correlation.argmax()\n",
        "print(cross_correlation[p])\n",
        "\n",
        "snrnew=abs(p)/np.std(cross_correlation)\n",
        "print(snrnew)\n",
        "print(abs(snrnew))\n",
        "\n",
        "print('############3')\n",
        "\n",
        "conditioned=ts\n",
        "\n",
        "print(template)\n",
        "print(len(template))\n",
        "\n",
        "zero_pad = np.zeros(len(data) - len(template))\n",
        "template_padded = np.append(template, zero_pad)\n",
        "#template_fft = np.fft.fft(template_padded)\n",
        "print('checking paded size')\n",
        "print(template_padded)\n",
        "print(len(template_padded))\n",
        "template_fft = np.fft.fft(template_padded)\n",
        "conditioned_fft=np.fft.fft(conditioned)\n",
        "print(conditioned)\n",
        "print(len(conditioned))\n",
        "\n",
        "\n",
        "snrtry = matched_filter(template_padded, conditioned,\n",
        "                     psd=psd, low_frequency_cutoff=20)\n"
      ],
      "execution_count": 54,
      "outputs": [
        {
          "output_type": "stream",
          "name": "stdout",
          "text": [
            "[ 1480.09705726 -1565.66867232 -3086.77176438 ...  2057.01678517\n",
            " -4865.69267688 -9313.51231193]\n",
            "296524.39560815017\n",
            "115.02187505521225\n",
            "115.02187505521225\n",
            "############3\n",
            "[ 2.17022747e-22 -2.11853874e-22  2.14827171e-22 ... -2.16031994e-22\n",
            "  2.19155099e-22 -2.13877610e-22]\n",
            "16384\n",
            "checking paded size\n",
            "[ 2.17022747e-22 -2.11853874e-22  2.14827171e-22 ...  0.00000000e+00\n",
            "  0.00000000e+00  0.00000000e+00]\n",
            "1048576\n",
            "[ 4.85696272e-22  2.61948631e-22  2.30970682e-22 ...  3.04619629e-23\n",
            "  1.54225859e-23 -7.64251640e-25]\n",
            "1048576\n"
          ]
        },
        {
          "output_type": "error",
          "ename": "TypeError",
          "evalue": "ignored",
          "traceback": [
            "\u001b[0;31m---------------------------------------------------------------------------\u001b[0m",
            "\u001b[0;31mTypeError\u001b[0m                                 Traceback (most recent call last)",
            "\u001b[0;32m<ipython-input-54-7a836bdb481d>\u001b[0m in \u001b[0;36m<module>\u001b[0;34m()\u001b[0m\n\u001b[1;32m     29\u001b[0m \u001b[0;34m\u001b[0m\u001b[0m\n\u001b[1;32m     30\u001b[0m snrtry = matched_filter(template_padded, conditioned,\n\u001b[0;32m---> 31\u001b[0;31m                      psd=psd, low_frequency_cutoff=20)\n\u001b[0m",
            "\u001b[0;32m/usr/local/lib/python3.7/dist-packages/pycbc/filter/matchedfilter.py\u001b[0m in \u001b[0;36mmatched_filter\u001b[0;34m(template, data, psd, low_frequency_cutoff, high_frequency_cutoff, sigmasq)\u001b[0m\n\u001b[1;32m   1312\u001b[0m     snr, _, norm = matched_filter_core(template, data, psd=psd,\n\u001b[1;32m   1313\u001b[0m             \u001b[0mlow_frequency_cutoff\u001b[0m\u001b[0;34m=\u001b[0m\u001b[0mlow_frequency_cutoff\u001b[0m\u001b[0;34m,\u001b[0m\u001b[0;34m\u001b[0m\u001b[0;34m\u001b[0m\u001b[0m\n\u001b[0;32m-> 1314\u001b[0;31m             high_frequency_cutoff=high_frequency_cutoff, h_norm=sigmasq)\n\u001b[0m\u001b[1;32m   1315\u001b[0m     \u001b[0;32mreturn\u001b[0m \u001b[0msnr\u001b[0m \u001b[0;34m*\u001b[0m \u001b[0mnorm\u001b[0m\u001b[0;34m\u001b[0m\u001b[0;34m\u001b[0m\u001b[0m\n\u001b[1;32m   1316\u001b[0m \u001b[0;34m\u001b[0m\u001b[0m\n",
            "\u001b[0;32m/usr/local/lib/python3.7/dist-packages/pycbc/filter/matchedfilter.py\u001b[0m in \u001b[0;36mmatched_filter_core\u001b[0;34m(template, data, psd, low_frequency_cutoff, high_frequency_cutoff, h_norm, out, corr_out)\u001b[0m\n\u001b[1;32m   1209\u001b[0m         \u001b[0mThe\u001b[0m \u001b[0mnormalization\u001b[0m \u001b[0mof\u001b[0m \u001b[0mthe\u001b[0m \u001b[0mcomplex\u001b[0m \u001b[0msnr\u001b[0m\u001b[0;34m.\u001b[0m\u001b[0;34m\u001b[0m\u001b[0;34m\u001b[0m\u001b[0m\n\u001b[1;32m   1210\u001b[0m     \"\"\"\n\u001b[0;32m-> 1211\u001b[0;31m     \u001b[0mhtilde\u001b[0m \u001b[0;34m=\u001b[0m \u001b[0mmake_frequency_series\u001b[0m\u001b[0;34m(\u001b[0m\u001b[0mtemplate\u001b[0m\u001b[0;34m)\u001b[0m\u001b[0;34m\u001b[0m\u001b[0;34m\u001b[0m\u001b[0m\n\u001b[0m\u001b[1;32m   1212\u001b[0m     \u001b[0mstilde\u001b[0m \u001b[0;34m=\u001b[0m \u001b[0mmake_frequency_series\u001b[0m\u001b[0;34m(\u001b[0m\u001b[0mdata\u001b[0m\u001b[0;34m)\u001b[0m\u001b[0;34m\u001b[0m\u001b[0;34m\u001b[0m\u001b[0m\n\u001b[1;32m   1213\u001b[0m \u001b[0;34m\u001b[0m\u001b[0m\n",
            "\u001b[0;32m/usr/local/lib/python3.7/dist-packages/pycbc/filter/matchedfilter.py\u001b[0m in \u001b[0;36mmake_frequency_series\u001b[0;34m(vec)\u001b[0m\n\u001b[1;32m   1011\u001b[0m         \u001b[0;32mreturn\u001b[0m \u001b[0mvectilde\u001b[0m\u001b[0;34m\u001b[0m\u001b[0;34m\u001b[0m\u001b[0m\n\u001b[1;32m   1012\u001b[0m     \u001b[0;32melse\u001b[0m\u001b[0;34m:\u001b[0m\u001b[0;34m\u001b[0m\u001b[0;34m\u001b[0m\u001b[0m\n\u001b[0;32m-> 1013\u001b[0;31m         \u001b[0;32mraise\u001b[0m \u001b[0mTypeError\u001b[0m\u001b[0;34m(\u001b[0m\u001b[0;34m\"Can only convert a TimeSeries to a FrequencySeries\"\u001b[0m\u001b[0;34m)\u001b[0m\u001b[0;34m\u001b[0m\u001b[0;34m\u001b[0m\u001b[0m\n\u001b[0m\u001b[1;32m   1014\u001b[0m \u001b[0;34m\u001b[0m\u001b[0m\n\u001b[1;32m   1015\u001b[0m def sigmasq_series(htilde, psd=None, low_frequency_cutoff=None,\n",
            "\u001b[0;31mTypeError\u001b[0m: Can only convert a TimeSeries to a FrequencySeries"
          ]
        }
      ]
    },
    {
      "cell_type": "markdown",
      "metadata": {
        "id": "6Ejx55AdAwvi"
      },
      "source": [
        "# Challenge!\n",
        "\n",
        "* Histogram the whitened time series. Ignoring the outliers associated with the signal, is it a Gaussian? What is the mean and standard deviation? (We have not been careful in normalizing the whitened data properly).\n",
        "* Histogram the above cross-correlation time series. Ignoring the outliers associated with the signal, is it a Gaussian? What is the mean and standard deviation?\n",
        "* Find the location of the peak. (Note that here, it can be positive or negative), and the value of the SNR of the signal (which is the absolute value of the peak value, divided by the standard deviation of the cross-correlation time series).\n",
        "\n",
        "## Optional challenge question. much harder:\n",
        "* Repeat this process, but instead of using a waveform with mass1=mass2=10, try 15, 20, or 25. Plot the SNR vs mass. Careful! Using lower masses (eg, mass1=mass2=1.4 Msun) will not work here. Why?"
      ]
    },
    {
      "cell_type": "markdown",
      "metadata": {
        "Collapsed": "false",
        "id": "DuO18i780pso"
      },
      "source": [
        "### Optimizing a matched-filter\n",
        "\n",
        "That's all that a matched-filter is. A cross-correlation of the data with a template waveform performed as a function of time. This cross-correlation walking through the data is a convolution operation. Convolution operations are more optimally performed in the frequency domain, which becomes a `O(N ln N)` operation, as opposed to the `O(N^2)` operation shown here. You can also conveniently vary the phase of the signal in the frequency domain, as we will illustrate in the next tutorial. PyCBC implements a frequency-domain matched-filtering engine, which is much faster than the code we've shown here. Let's move to the next tutorial now, where we will demonstrate its use on real data."
      ]
    }
  ]
}